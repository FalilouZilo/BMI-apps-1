{
 "cells": [
  {
   "cell_type": "code",
   "execution_count": null,
   "id": "8f0f08e3",
   "metadata": {},
   "outputs": [],
   "source": [
    "#Body Mass Index (BMI) calculation\n",
    "#Please enter your weight and height here below\n",
    "weight = float(input(\"Enter your weight in kg: \"))\n",
    "height = float(input(\"Enter your height in meters: \"))"
   ]
  },
  {
   "cell_type": "code",
   "execution_count": null,
   "id": "005deaad",
   "metadata": {},
   "outputs": [],
   "source": [
    "#Do the calculation\n",
    "BMI = weight/height**2"
   ]
  },
  {
   "cell_type": "code",
   "execution_count": null,
   "id": "10799cd9",
   "metadata": {},
   "outputs": [],
   "source": [
    "#Display the result\n",
    "Print (\"your BMI is : \", round (BMI, 2))"
   ]
  },
  {
   "cell_type": "code",
   "execution_count": null,
   "id": "f0ba4c88",
   "metadata": {},
   "outputs": [],
   "source": [
    "#Interpretation of the result\n",
    "if BMI < 18.5 : \n",
    "    print (\"You are underweight for your height, a medical consultation is necessary to receive recommendations appropriate to your situation. \")\n",
    "elif BMI > 18.5 and BMI < 25 :\n",
    "    print (\"Congratulations ! Your weight is normal, continue to have a healthy living and a balanced nutrition. \")\n",
    "elif BMI > 25 and BMI < 30 :\n",
    "    print (\"You are overweight, you need to watch your weight and adapt a balanced nutrition.\")\n",
    "elif BMI > 30 and BMI < 35 :\n",
    "    print (\"You are obese, ask your doctor or dietician for advice.\")\n",
    "else : \n",
    "    print (\"Your situation corresponds to severe or massive obesity, the risk of being exposed to various health problems is high.  \")"
   ]
  },
  {
   "cell_type": "code",
   "execution_count": null,
   "id": "3141931f",
   "metadata": {},
   "outputs": [],
   "source": []
  }
 ],
 "metadata": {
  "kernelspec": {
   "display_name": "Python 3",
   "language": "python",
   "name": "python3"
  },
  "language_info": {
   "codemirror_mode": {
    "name": "ipython",
    "version": 3
   },
   "file_extension": ".py",
   "mimetype": "text/x-python",
   "name": "python",
   "nbconvert_exporter": "python",
   "pygments_lexer": "ipython3",
   "version": "3.8.8"
  }
 },
 "nbformat": 4,
 "nbformat_minor": 5
}
